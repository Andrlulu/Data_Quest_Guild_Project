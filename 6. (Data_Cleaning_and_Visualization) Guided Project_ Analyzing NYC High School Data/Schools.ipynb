{
 "cells": [
  {
   "cell_type": "markdown",
   "metadata": {},
   "source": [
    "# Read in the data"
   ]
  },
  {
   "cell_type": "code",
   "execution_count": 1,
   "metadata": {
    "collapsed": true
   },
   "outputs": [],
   "source": [
    "import pandas as pd\n",
    "import numpy\n",
    "import re\n",
    "pd.set_option('display.max_columns', 500)\n",
    "\n",
    "data_files = [\n",
    "    \"ap_2010.csv\",\n",
    "    \"class_size.csv\",\n",
    "    \"demographics.csv\",\n",
    "    \"graduation.csv\",\n",
    "    \"hs_directory.csv\",\n",
    "    \"sat_results.csv\"\n",
    "]\n",
    "\n",
    "data = {}\n",
    "\n",
    "for f in data_files:\n",
    "    d = pd.read_csv(\"schools/{0}\".format(f))\n",
    "    data[f.replace(\".csv\", \"\")] = d"
   ]
  },
  {
   "cell_type": "markdown",
   "metadata": {},
   "source": [
    "# Read in the surveys"
   ]
  },
  {
   "cell_type": "code",
   "execution_count": 2,
   "metadata": {
    "collapsed": true
   },
   "outputs": [],
   "source": [
    "all_survey = pd.read_csv(\"schools/survey_all.txt\", delimiter=\"\\t\", encoding='windows-1252')\n",
    "d75_survey = pd.read_csv(\"schools/survey_d75.txt\", delimiter=\"\\t\", encoding='windows-1252')\n",
    "survey = pd.concat([all_survey, d75_survey], axis=0)\n",
    "\n",
    "survey[\"DBN\"] = survey[\"dbn\"]\n",
    "\n",
    "survey_fields = [\n",
    "    \"DBN\", \n",
    "    \"rr_s\", \n",
    "    \"rr_t\", \n",
    "    \"rr_p\", \n",
    "    \"N_s\", \n",
    "    \"N_t\", \n",
    "    \"N_p\", \n",
    "    \"saf_p_11\", \n",
    "    \"com_p_11\", \n",
    "    \"eng_p_11\", \n",
    "    \"aca_p_11\", \n",
    "    \"saf_t_11\", \n",
    "    \"com_t_11\", \n",
    "    \"eng_t_11\", \n",
    "    \"aca_t_11\", \n",
    "    \"saf_s_11\", \n",
    "    \"com_s_11\", \n",
    "    \"eng_s_11\", \n",
    "    \"aca_s_11\", \n",
    "    \"saf_tot_11\", \n",
    "    \"com_tot_11\", \n",
    "    \"eng_tot_11\", \n",
    "    \"aca_tot_11\",\n",
    "]\n",
    "survey = survey.loc[:,survey_fields]\n",
    "data[\"survey\"] = survey"
   ]
  },
  {
   "cell_type": "markdown",
   "metadata": {},
   "source": [
    "# Add DBN columns"
   ]
  },
  {
   "cell_type": "code",
   "execution_count": 3,
   "metadata": {
    "collapsed": true
   },
   "outputs": [],
   "source": [
    "data[\"hs_directory\"][\"DBN\"] = data[\"hs_directory\"][\"dbn\"]\n",
    "\n",
    "def pad_csd(num):\n",
    "    string_representation = str(num)\n",
    "    if len(string_representation) > 1:\n",
    "        return string_representation\n",
    "    else:\n",
    "        return \"0\" + string_representation\n",
    "    \n",
    "data[\"class_size\"][\"padded_csd\"] = data[\"class_size\"][\"CSD\"].apply(pad_csd)\n",
    "data[\"class_size\"][\"DBN\"] = data[\"class_size\"][\"padded_csd\"] + data[\"class_size\"][\"SCHOOL CODE\"]"
   ]
  },
  {
   "cell_type": "markdown",
   "metadata": {},
   "source": [
    "# Convert columns to numeric"
   ]
  },
  {
   "cell_type": "code",
   "execution_count": 4,
   "metadata": {
    "collapsed": true
   },
   "outputs": [],
   "source": [
    "cols = ['SAT Math Avg. Score', 'SAT Critical Reading Avg. Score', 'SAT Writing Avg. Score']\n",
    "for c in cols:\n",
    "    data[\"sat_results\"][c] = pd.to_numeric(data[\"sat_results\"][c], errors=\"coerce\")\n",
    "\n",
    "data['sat_results']['sat_score'] = data['sat_results'][cols[0]] + data['sat_results'][cols[1]] + data['sat_results'][cols[2]]\n",
    "\n",
    "def find_lat(loc):\n",
    "    coords = re.findall(\"\\(.+, .+\\)\", loc)\n",
    "    lat = coords[0].split(\",\")[0].replace(\"(\", \"\")\n",
    "    return lat\n",
    "\n",
    "def find_lon(loc):\n",
    "    coords = re.findall(\"\\(.+, .+\\)\", loc)\n",
    "    lon = coords[0].split(\",\")[1].replace(\")\", \"\").strip()\n",
    "    return lon\n",
    "\n",
    "data[\"hs_directory\"][\"lat\"] = data[\"hs_directory\"][\"Location 1\"].apply(find_lat)\n",
    "data[\"hs_directory\"][\"lon\"] = data[\"hs_directory\"][\"Location 1\"].apply(find_lon)\n",
    "\n",
    "data[\"hs_directory\"][\"lat\"] = pd.to_numeric(data[\"hs_directory\"][\"lat\"], errors=\"coerce\")\n",
    "data[\"hs_directory\"][\"lon\"] = pd.to_numeric(data[\"hs_directory\"][\"lon\"], errors=\"coerce\")"
   ]
  },
  {
   "cell_type": "markdown",
   "metadata": {},
   "source": [
    "# Condense datasets"
   ]
  },
  {
   "cell_type": "code",
   "execution_count": 5,
   "metadata": {
    "collapsed": true
   },
   "outputs": [],
   "source": [
    "class_size = data[\"class_size\"]\n",
    "class_size = class_size[class_size[\"GRADE \"] == \"09-12\"]\n",
    "class_size = class_size[class_size[\"PROGRAM TYPE\"] == \"GEN ED\"]\n",
    "\n",
    "class_size = class_size.groupby(\"DBN\").agg(numpy.mean)\n",
    "class_size.reset_index(inplace=True)\n",
    "data[\"class_size\"] = class_size\n",
    "\n",
    "data[\"demographics\"] = data[\"demographics\"][data[\"demographics\"][\"schoolyear\"] == 20112012]\n",
    "\n",
    "data[\"graduation\"] = data[\"graduation\"][data[\"graduation\"][\"Cohort\"] == \"2006\"]\n",
    "data[\"graduation\"] = data[\"graduation\"][data[\"graduation\"][\"Demographic\"] == \"Total Cohort\"]"
   ]
  },
  {
   "cell_type": "markdown",
   "metadata": {},
   "source": [
    "# Convert AP scores to numeric"
   ]
  },
  {
   "cell_type": "code",
   "execution_count": 6,
   "metadata": {
    "collapsed": true
   },
   "outputs": [],
   "source": [
    "cols = ['AP Test Takers ', 'Total Exams Taken', 'Number of Exams with scores 3 4 or 5']\n",
    "\n",
    "for col in cols:\n",
    "    data[\"ap_2010\"][col] = pd.to_numeric(data[\"ap_2010\"][col], errors=\"coerce\")"
   ]
  },
  {
   "cell_type": "markdown",
   "metadata": {},
   "source": [
    "# Combine the datasets"
   ]
  },
  {
   "cell_type": "code",
   "execution_count": 7,
   "metadata": {
    "collapsed": true
   },
   "outputs": [],
   "source": [
    "combined = data[\"sat_results\"]\n",
    "\n",
    "combined = combined.merge(data[\"ap_2010\"], on=\"DBN\", how=\"left\")\n",
    "combined = combined.merge(data[\"graduation\"], on=\"DBN\", how=\"left\")\n",
    "\n",
    "to_merge = [\"class_size\", \"demographics\", \"survey\", \"hs_directory\"]\n",
    "\n",
    "for m in to_merge:\n",
    "    combined = combined.merge(data[m], on=\"DBN\", how=\"inner\")\n",
    "\n",
    "combined = combined.fillna(combined.mean())\n",
    "combined = combined.fillna(0)"
   ]
  },
  {
   "cell_type": "markdown",
   "metadata": {},
   "source": [
    "# Add a school district column for mapping"
   ]
  },
  {
   "cell_type": "code",
   "execution_count": 8,
   "metadata": {
    "collapsed": true
   },
   "outputs": [],
   "source": [
    "def get_first_two_chars(dbn):\n",
    "    return dbn[0:2]\n",
    "\n",
    "combined[\"school_dist\"] = combined[\"DBN\"].apply(get_first_two_chars)"
   ]
  },
  {
   "cell_type": "markdown",
   "metadata": {},
   "source": [
    "# Find correlations"
   ]
  },
  {
   "cell_type": "code",
   "execution_count": 10,
   "metadata": {
    "collapsed": false,
    "scrolled": true
   },
   "outputs": [
    {
     "name": "stdout",
     "output_type": "stream",
     "text": [
      "SAT Critical Reading Avg. Score         0.986820\n",
      "SAT Math Avg. Score                     0.972643\n",
      "SAT Writing Avg. Score                  0.987771\n",
      "sat_score                               1.000000\n",
      "AP Test Takers                          0.523140\n",
      "Total Exams Taken                       0.514333\n",
      "Number of Exams with scores 3 4 or 5    0.463245\n",
      "Total Cohort                            0.325144\n",
      "CSD                                     0.042948\n",
      "NUMBER OF STUDENTS / SEATS FILLED       0.394626\n",
      "NUMBER OF SECTIONS                      0.362673\n",
      "AVERAGE CLASS SIZE                      0.381014\n",
      "SIZE OF SMALLEST CLASS                  0.249949\n",
      "SIZE OF LARGEST CLASS                   0.314434\n",
      "SCHOOLWIDE PUPIL-TEACHER RATIO               NaN\n",
      "schoolyear                                   NaN\n",
      "fl_percent                                   NaN\n",
      "frl_percent                            -0.722225\n",
      "total_enrollment                        0.367857\n",
      "ell_num                                -0.153778\n",
      "ell_percent                            -0.398750\n",
      "sped_num                                0.034933\n",
      "sped_percent                           -0.448170\n",
      "asian_num                               0.475445\n",
      "asian_per                               0.570730\n",
      "black_num                               0.027979\n",
      "black_per                              -0.284139\n",
      "hispanic_num                            0.025744\n",
      "hispanic_per                           -0.396985\n",
      "white_num                               0.449559\n",
      "                                          ...   \n",
      "rr_p                                    0.047925\n",
      "N_s                                     0.423463\n",
      "N_t                                     0.291463\n",
      "N_p                                     0.421530\n",
      "saf_p_11                                0.122913\n",
      "com_p_11                               -0.115073\n",
      "eng_p_11                                0.020254\n",
      "aca_p_11                                0.035155\n",
      "saf_t_11                                0.313810\n",
      "com_t_11                                0.082419\n",
      "eng_t_11                                0.036906\n",
      "aca_t_11                                0.132348\n",
      "saf_s_11                                0.337639\n",
      "com_s_11                                0.187370\n",
      "eng_s_11                                0.213822\n",
      "aca_s_11                                0.339435\n",
      "saf_tot_11                              0.318753\n",
      "com_tot_11                              0.077310\n",
      "eng_tot_11                              0.100102\n",
      "aca_tot_11                              0.190966\n",
      "grade_span_max                               NaN\n",
      "expgrade_span_max                            NaN\n",
      "zip                                    -0.063977\n",
      "total_students                          0.407827\n",
      "number_programs                         0.117012\n",
      "priority08                                   NaN\n",
      "priority09                                   NaN\n",
      "priority10                                   NaN\n",
      "lat                                    -0.121029\n",
      "lon                                    -0.132222\n",
      "Name: sat_score, Length: 67, dtype: float64\n"
     ]
    }
   ],
   "source": [
    "correlations = combined.corr()\n",
    "correlations = correlations[\"sat_score\"]\n",
    "print(correlations)"
   ]
  },
  {
   "cell_type": "markdown",
   "metadata": {},
   "source": [
    "# Plotting survey correlations"
   ]
  },
  {
   "cell_type": "code",
   "execution_count": 11,
   "metadata": {
    "collapsed": false
   },
   "outputs": [],
   "source": [
    "# Remove DBN since it's a unique identifier, not a useful numerical value for correlation.\n",
    "survey_fields.remove(\"DBN\")"
   ]
  },
  {
   "cell_type": "code",
   "execution_count": 12,
   "metadata": {
    "collapsed": false
   },
   "outputs": [
    {
     "data": {
      "text/plain": [
       "<matplotlib.axes._subplots.AxesSubplot at 0x7fa8a6b5d908>"
      ]
     },
     "execution_count": 12,
     "metadata": {},
     "output_type": "execute_result"
    },
    {
     "data": {
      "image/png": "[encoded data removed]",
      "text/plain": [
       "<matplotlib.figure.Figure at 0x7fa8a6b5e160>"
      ]
     },
     "metadata": {},
     "output_type": "display_data"
    }
   ],
   "source": [
    "import matplotlib.pyplot as plt\n",
    "%matplotlib inline\n",
    "combined.corr()['sat_score'][survey_fields].plot.bar()"
   ]
  },
  {
   "cell_type": "markdown",
   "metadata": {},
   "source": [
    "There are the top 2 correlations survey: N_s, N_p. N_s represents number of student respondents and N_p represents number of parent respondents. I would say that if more the students and the parents of the school are active in the survey, generaly higher the sat score they get. \n",
    "<br>\n",
    "<br>\n",
    "rr_t and com_p_11 have negative correlations. rr_t represents teacher response rate and com_p_11 represents communication score based on parent responses. Meaning a school with higher teacher response rate generaly has lower sat avg score.\n",
    "<br>\n",
    "<br>\n",
    "saf_t_11 represents safty and respect total score based on teacher responses.\n",
    "saf_s_11 represents safety and Respect score based on student responses."
   ]
  },
  {
   "cell_type": "code",
   "execution_count": 13,
   "metadata": {
    "collapsed": false
   },
   "outputs": [
    {
     "data": {
      "text/plain": [
       "<matplotlib.collections.PathCollection at 0x7fa8a6b89518>"
      ]
     },
     "execution_count": 13,
     "metadata": {},
     "output_type": "execute_result"
    },
    {
     "data": {
      "image/png": "[encoded data removed]",
      "text/plain": [
       "<matplotlib.figure.Figure at 0x7fa8a6b358d0>"
      ]
     },
     "metadata": {},
     "output_type": "display_data"
    }
   ],
   "source": [
    "plt.scatter(combined['sat_score'],combined['saf_s_11'])"
   ]
  },
  {
   "cell_type": "markdown",
   "metadata": {},
   "source": [
    "I can not really see a strong correlations between these two columns. However, there is a concentrated area where sat score is between 1000 and 1400 and saf_s_11 between 5 and 7.5. The graph is weakly correlated as I can see a weak adjacent line."
   ]
  },
  {
   "cell_type": "markdown",
   "metadata": {},
   "source": [
    "# Safety by geographic area plot:"
   ]
  },
  {
   "cell_type": "code",
   "execution_count": 14,
   "metadata": {
    "collapsed": false
   },
   "outputs": [
    {
     "data": {
      "image/png": "[encoded data removed]",
      "text/plain": [
       "<matplotlib.figure.Figure at 0x7fa8a6baa470>"
      ]
     },
     "metadata": {},
     "output_type": "display_data"
    }
   ],
   "source": [
    "from mpl_toolkits.basemap import Basemap\n",
    "import pandas as pd\n",
    "import numpy as np\n",
    "import matplotlib.pyplot as plt\n",
    "\n",
    "m = Basemap(\n",
    "    projection='merc', \n",
    "    llcrnrlat=40.496044, \n",
    "    urcrnrlat=40.915256, \n",
    "    llcrnrlon=-74.255735, \n",
    "    urcrnrlon=-73.700272,\n",
    "    resolution='i'\n",
    "    )\n",
    "m.drawmapboundary(fill_color='#85A6D9')\n",
    "m.drawcoastlines(color='#6D5F47', linewidth=.4)\n",
    "m.drawrivers(color='#6D5F47', linewidth=.4)\n",
    "m.fillcontinents(color='white',lake_color='#85A6D9')\n",
    "\n",
    "districts = combined.groupby('school_dist').agg(np.mean)\n",
    "districts.reset_index(inplace=True)\n",
    "\n",
    "longitudes = districts['lon'].tolist()\n",
    "latitudes = districts['lat'].tolist()\n",
    "\n",
    "m.scatter(longitudes, latitudes, s=50, zorder=2, latlon=True,c=districts[\"saf_s_11\"], cmap=\"summer\")\n",
    "plt.show()\n"
   ]
  },
  {
   "cell_type": "markdown",
   "metadata": {},
   "source": [
    "Manhaton has their safty sore according to student in school."
   ]
  },
  {
   "cell_type": "markdown",
   "metadata": {},
   "source": [
    "# Racial Vs SAT score analysis"
   ]
  },
  {
   "cell_type": "code",
   "execution_count": 15,
   "metadata": {
    "collapsed": false
   },
   "outputs": [
    {
     "data": {
      "text/plain": [
       "<matplotlib.axes._subplots.AxesSubplot at 0x7fa8a6b964e0>"
      ]
     },
     "execution_count": 15,
     "metadata": {},
     "output_type": "execute_result"
    },
    {
     "data": {
      "image/png": "[encoded data removed]",
      "text/plain": [
       "<matplotlib.figure.Figure at 0x7fa8a6baceb8>"
      ]
     },
     "metadata": {},
     "output_type": "display_data"
    }
   ],
   "source": [
    "racial = ['white_per','asian_per','black_per','hispanic_per']\n",
    "combined.corr()['sat_score'][racial].plot.bar()"
   ]
  },
  {
   "cell_type": "markdown",
   "metadata": {},
   "source": [
    "School with higher race of white and asian generally has higher sat score"
   ]
  },
  {
   "cell_type": "code",
   "execution_count": 16,
   "metadata": {
    "collapsed": false
   },
   "outputs": [
    {
     "data": {
      "text/plain": [
       "<matplotlib.collections.PathCollection at 0x7fa8a62d8a58>"
      ]
     },
     "execution_count": 16,
     "metadata": {},
     "output_type": "execute_result"
    },
    {
     "data": {
      "image/png": "[encoded data removed]",
      "text/plain": [
       "<matplotlib.figure.Figure at 0x7fa8a6384748>"
      ]
     },
     "metadata": {},
     "output_type": "display_data"
    }
   ],
   "source": [
    "plt.scatter(combined['hispanic_per'],combined['sat_score'])"
   ]
  },
  {
   "cell_type": "markdown",
   "metadata": {},
   "source": [
    "Almost negative correltion. Schools with higher hispanic percentage have lower sat score."
   ]
  },
  {
   "cell_type": "code",
   "execution_count": 18,
   "metadata": {
    "collapsed": false
   },
   "outputs": [],
   "source": [
    "most_hisp_school = combined[combined['hispanic_per']>95]\n",
    "#print(most_hisp_school)"
   ]
  },
  {
   "cell_type": "code",
   "execution_count": 20,
   "metadata": {
    "collapsed": false
   },
   "outputs": [],
   "source": [
    "hist10 = combined[combined['hispanic_per']<10]\n",
    "hist_10_1800 = hist10[hist10['sat_score']>1800]\n",
    "#print(hist_10_1800)"
   ]
  },
  {
   "cell_type": "markdown",
   "metadata": {},
   "source": [
    "# Gender Vs SAT score analysis"
   ]
  },
  {
   "cell_type": "code",
   "execution_count": 21,
   "metadata": {
    "collapsed": false
   },
   "outputs": [
    {
     "data": {
      "text/plain": [
       "<matplotlib.axes._subplots.AxesSubplot at 0x7fa8a4a860f0>"
      ]
     },
     "execution_count": 21,
     "metadata": {},
     "output_type": "execute_result"
    },
    {
     "data": {
      "image/png": "[encoded data removed]",
      "text/plain": [
       "<matplotlib.figure.Figure at 0x7fa8a6366f60>"
      ]
     },
     "metadata": {},
     "output_type": "display_data"
    }
   ],
   "source": [
    "gender = ['male_per','female_per']\n",
    "combined.corr()['sat_score'][gender].plot.bar()"
   ]
  },
  {
   "cell_type": "markdown",
   "metadata": {},
   "source": [
    "Both genders have weak correlation with sat score. However, a school with high percentage of female with have slight higher SAT score."
   ]
  },
  {
   "cell_type": "code",
   "execution_count": 22,
   "metadata": {
    "collapsed": false
   },
   "outputs": [
    {
     "data": {
      "text/plain": [
       "<matplotlib.collections.PathCollection at 0x7fa8a49b3630>"
      ]
     },
     "execution_count": 22,
     "metadata": {},
     "output_type": "execute_result"
    },
    {
     "data": {
      "image/png": "[encoded data removed]",
      "text/plain": [
       "<matplotlib.figure.Figure at 0x7fa8a49f2b38>"
      ]
     },
     "metadata": {},
     "output_type": "display_data"
    }
   ],
   "source": [
    "plt.scatter(combined['male_per'],combined['sat_score'])"
   ]
  },
  {
   "cell_type": "code",
   "execution_count": 23,
   "metadata": {
    "collapsed": false
   },
   "outputs": [
    {
     "data": {
      "text/plain": [
       "<matplotlib.collections.PathCollection at 0x7fa8a4992fd0>"
      ]
     },
     "execution_count": 23,
     "metadata": {},
     "output_type": "execute_result"
    },
    {
     "data": {
      "image/png": "[encoded data removed]",
      "text/plain": [
       "<matplotlib.figure.Figure at 0x7fa8a49d25c0>"
      ]
     },
     "metadata": {},
     "output_type": "display_data"
    }
   ],
   "source": [
    "plt.scatter(combined['female_per'],combined['sat_score'])"
   ]
  },
  {
   "cell_type": "markdown",
   "metadata": {},
   "source": [
    "I find out that the most concentrated part is around 40 to 60 percent of female. With some school with 40% female gets high score in SAT. I think thats why female has slight higher correlation then male does."
   ]
  },
  {
   "cell_type": "code",
   "execution_count": 25,
   "metadata": {
    "collapsed": false
   },
   "outputs": [],
   "source": [
    "female_60 = combined[combined['female_per']>60]\n",
    "female_60_1700 = female_60[female_60['sat_score']>1700]\n",
    "#print(female_60_1700)"
   ]
  },
  {
   "cell_type": "markdown",
   "metadata": {},
   "source": [
    "   As a partnership between Bard College and various local public school systems, the BHSEC model allows highly motivated and scholastically strong students to begin their college studies two years early, graduating with a Bard College Associate in Arts degree in addition to their high school diploma. Students complete their high school studies in the ninth and tenth grades, after which point they begin taking credit-bearing college courses under the same roof. \n",
    "   Eleanor Roosevelt High School (ERHS), is a Maryland public magnet high school specializing in science, mathematics, technology, and engineering. The school was established in 1976 at its current location in Greenbelt, Maryland and is part of the Prince George's County Public Schools system. It was the first high school named for former first lady Eleanor Roosevelt.\n",
    "   The Beacon School (also called Beacon High School) is a selective college-preparatory public high school in the Hell's Kitchen area of Manhattan in New York City, near Times Square and the Theater District. Beacon's curriculum exceeds the standards set by the New York State Regents, and as a member of the New York Performance Standards Consortium, its students are exempt from taking most Regents exams."
   ]
  },
  {
   "cell_type": "markdown",
   "metadata": {},
   "source": [
    "From the description from Wiki, I can say that a lot of these high schools are college preparational. Thus, the school will highly concentrated in helping student to achieve higher SAT score."
   ]
  },
  {
   "cell_type": "markdown",
   "metadata": {},
   "source": [
    "# Correlation between AP score and SAT score analysis"
   ]
  },
  {
   "cell_type": "code",
   "execution_count": 26,
   "metadata": {
    "collapsed": false
   },
   "outputs": [
    {
     "data": {
      "text/plain": [
       "<matplotlib.collections.PathCollection at 0x7fa8a48fdb70>"
      ]
     },
     "execution_count": 26,
     "metadata": {},
     "output_type": "execute_result"
    },
    {
     "data": {
      "image/png": "[encoded data removed]",
      "text/plain": [
       "<matplotlib.figure.Figure at 0x7fa8a6b35908>"
      ]
     },
     "metadata": {},
     "output_type": "display_data"
    }
   ],
   "source": [
    "combined['ap_per'] = combined['AP Test Takers ']/combined['total_enrollment']\n",
    "plt.scatter(combined['ap_per'],combined['sat_score'])"
   ]
  },
  {
   "cell_type": "markdown",
   "metadata": {},
   "source": [
    "The plot is showing that a school with a higher the percentage of AP task taker, the higher the SAT avg score the school will have. However, at an extreme, some schools have about 80 - 90 percent of AP taker does not score well on SAT exam. Maybe the student has a higher AP score than their SAT score."
   ]
  },
  {
   "cell_type": "markdown",
   "metadata": {},
   "source": [
    "# Correlation between class size and SAT score"
   ]
  },
  {
   "cell_type": "code",
   "execution_count": 27,
   "metadata": {
    "collapsed": false
   },
   "outputs": [
    {
     "data": {
      "text/plain": [
       "0.3810143308095523"
      ]
     },
     "execution_count": 27,
     "metadata": {},
     "output_type": "execute_result"
    }
   ],
   "source": [
    "combined.corr()['AVERAGE CLASS SIZE']['sat_score']"
   ]
  },
  {
   "cell_type": "code",
   "execution_count": 28,
   "metadata": {
    "collapsed": false
   },
   "outputs": [
    {
     "data": {
      "text/plain": [
       "<matplotlib.collections.PathCollection at 0x7fa8a48e6ac8>"
      ]
     },
     "execution_count": 28,
     "metadata": {},
     "output_type": "execute_result"
    },
    {
     "data": {
      "image/png": "[encoded data removed]",
      "text/plain": [
       "<matplotlib.figure.Figure at 0x7fa8a4a000f0>"
      ]
     },
     "metadata": {},
     "output_type": "display_data"
    }
   ],
   "source": [
    "plt.scatter(combined['AVERAGE CLASS SIZE'],combined['sat_score'])"
   ]
  },
  {
   "cell_type": "markdown",
   "metadata": {},
   "source": [
    "There is a weak correlation between avg class size and SAT score. I am suprised that this plot is indicating that a school with relative larger class will have a higher SAT score. "
   ]
  },
  {
   "cell_type": "markdown",
   "metadata": {},
   "source": [
    "# Best neighborhood for high school"
   ]
  },
  {
   "cell_type": "code",
   "execution_count": 29,
   "metadata": {
    "collapsed": false
   },
   "outputs": [
    {
     "data": {
      "image/png": "[encoded data removed]",
      "text/plain": [
       "<matplotlib.figure.Figure at 0x7fa8a48b15f8>"
      ]
     },
     "metadata": {},
     "output_type": "display_data"
    }
   ],
   "source": [
    "# In this case, I would say that a school with higher avg SAT is generally better.Therfore I would use SAT score to indicate the district.\n",
    "m = Basemap(\n",
    "    projection='merc', \n",
    "    llcrnrlat=40.496044, \n",
    "    urcrnrlat=40.915256, \n",
    "    llcrnrlon=-74.255735, \n",
    "    urcrnrlon=-73.700272,\n",
    "    resolution='i'\n",
    "    )\n",
    "\n",
    "m.drawmapboundary(fill_color='#85A6D9')\n",
    "m.drawcoastlines(color='#6D5F47', linewidth=.4)\n",
    "m.drawrivers(color='#6D5F47', linewidth=.4)\n",
    "m.fillcontinents(color='white',lake_color='#85A6D9')\n",
    "\n",
    "districts = combined.groupby('school_dist').agg(np.mean)\n",
    "districts.reset_index(inplace=True)\n",
    "\n",
    "longitudes = districts['lon'].tolist()\n",
    "latitudes = districts['lat'].tolist()\n",
    "\n",
    "m.scatter(longitudes, latitudes, s=50, zorder=2, latlon=True,c=districts[\"sat_score\"], cmap=\"summer\")\n",
    "plt.show()"
   ]
  },
  {
   "cell_type": "code",
   "execution_count": 30,
   "metadata": {
    "collapsed": false
   },
   "outputs": [
    {
     "data": {
      "text/html": [
       "<div>\n",
       "<style scoped>\n",
       "    .dataframe tbody tr th:only-of-type {\n",
       "        vertical-align: middle;\n",
       "    }\n",
       "\n",
       "    .dataframe tbody tr th {\n",
       "        vertical-align: top;\n",
       "    }\n",
       "\n",
       "    .dataframe thead th {\n",
       "        text-align: right;\n",
       "    }\n",
       "</style>\n",
       "<table border=\"1\" class=\"dataframe\">\n",
       "  <thead>\n",
       "    <tr style=\"text-align: right;\">\n",
       "      <th></th>\n",
       "      <th>school_dist</th>\n",
       "      <th>SAT Critical Reading Avg. Score</th>\n",
       "      <th>SAT Math Avg. Score</th>\n",
       "      <th>SAT Writing Avg. Score</th>\n",
       "      <th>sat_score</th>\n",
       "      <th>AP Test Takers</th>\n",
       "      <th>Total Exams Taken</th>\n",
       "      <th>Number of Exams with scores 3 4 or 5</th>\n",
       "      <th>Total Cohort</th>\n",
       "      <th>CSD</th>\n",
       "      <th>NUMBER OF STUDENTS / SEATS FILLED</th>\n",
       "      <th>NUMBER OF SECTIONS</th>\n",
       "      <th>AVERAGE CLASS SIZE</th>\n",
       "      <th>SIZE OF SMALLEST CLASS</th>\n",
       "      <th>SIZE OF LARGEST CLASS</th>\n",
       "      <th>SCHOOLWIDE PUPIL-TEACHER RATIO</th>\n",
       "      <th>schoolyear</th>\n",
       "      <th>fl_percent</th>\n",
       "      <th>frl_percent</th>\n",
       "      <th>total_enrollment</th>\n",
       "      <th>ell_num</th>\n",
       "      <th>ell_percent</th>\n",
       "      <th>sped_num</th>\n",
       "      <th>sped_percent</th>\n",
       "      <th>asian_num</th>\n",
       "      <th>asian_per</th>\n",
       "      <th>black_num</th>\n",
       "      <th>black_per</th>\n",
       "      <th>hispanic_num</th>\n",
       "      <th>hispanic_per</th>\n",
       "      <th>white_num</th>\n",
       "      <th>white_per</th>\n",
       "      <th>male_num</th>\n",
       "      <th>male_per</th>\n",
       "      <th>female_num</th>\n",
       "      <th>female_per</th>\n",
       "      <th>rr_s</th>\n",
       "      <th>rr_t</th>\n",
       "      <th>rr_p</th>\n",
       "      <th>N_s</th>\n",
       "      <th>N_t</th>\n",
       "      <th>N_p</th>\n",
       "      <th>saf_p_11</th>\n",
       "      <th>com_p_11</th>\n",
       "      <th>eng_p_11</th>\n",
       "      <th>aca_p_11</th>\n",
       "      <th>saf_t_11</th>\n",
       "      <th>com_t_11</th>\n",
       "      <th>eng_t_11</th>\n",
       "      <th>aca_t_11</th>\n",
       "      <th>saf_s_11</th>\n",
       "      <th>com_s_11</th>\n",
       "      <th>eng_s_11</th>\n",
       "      <th>aca_s_11</th>\n",
       "      <th>saf_tot_11</th>\n",
       "      <th>com_tot_11</th>\n",
       "      <th>eng_tot_11</th>\n",
       "      <th>aca_tot_11</th>\n",
       "      <th>grade_span_max</th>\n",
       "      <th>expgrade_span_max</th>\n",
       "      <th>zip</th>\n",
       "      <th>total_students</th>\n",
       "      <th>number_programs</th>\n",
       "      <th>priority08</th>\n",
       "      <th>priority09</th>\n",
       "      <th>priority10</th>\n",
       "      <th>lat</th>\n",
       "      <th>lon</th>\n",
       "      <th>ap_per</th>\n",
       "    </tr>\n",
       "  </thead>\n",
       "  <tbody>\n",
       "    <tr>\n",
       "      <th>0</th>\n",
       "      <td>01</td>\n",
       "      <td>441.833333</td>\n",
       "      <td>473.333333</td>\n",
       "      <td>439.333333</td>\n",
       "      <td>1354.500000</td>\n",
       "      <td>116.681090</td>\n",
       "      <td>173.019231</td>\n",
       "      <td>135.800000</td>\n",
       "      <td>93.500000</td>\n",
       "      <td>1.0</td>\n",
       "      <td>115.244241</td>\n",
       "      <td>5.148538</td>\n",
       "      <td>22.675415</td>\n",
       "      <td>18.798392</td>\n",
       "      <td>26.553044</td>\n",
       "      <td>0.0</td>\n",
       "      <td>20112012.0</td>\n",
       "      <td>0.0</td>\n",
       "      <td>58.983333</td>\n",
       "      <td>668.500000</td>\n",
       "      <td>42.166667</td>\n",
       "      <td>10.000000</td>\n",
       "      <td>82.000000</td>\n",
       "      <td>17.083333</td>\n",
       "      <td>134.500000</td>\n",
       "      <td>17.516667</td>\n",
       "      <td>125.500000</td>\n",
       "      <td>22.333333</td>\n",
       "      <td>214.833333</td>\n",
       "      <td>40.733333</td>\n",
       "      <td>186.000000</td>\n",
       "      <td>18.450000</td>\n",
       "      <td>328.166667</td>\n",
       "      <td>50.050000</td>\n",
       "      <td>340.333333</td>\n",
       "      <td>49.950000</td>\n",
       "      <td>76.500000</td>\n",
       "      <td>85.333333</td>\n",
       "      <td>33.166667</td>\n",
       "      <td>525.368056</td>\n",
       "      <td>38.500000</td>\n",
       "      <td>239.166667</td>\n",
       "      <td>8.233333</td>\n",
       "      <td>7.800000</td>\n",
       "      <td>7.683333</td>\n",
       "      <td>8.016667</td>\n",
       "      <td>7.066667</td>\n",
       "      <td>6.233333</td>\n",
       "      <td>6.700000</td>\n",
       "      <td>7.500000</td>\n",
       "      <td>6.768611</td>\n",
       "      <td>6.165787</td>\n",
       "      <td>6.736713</td>\n",
       "      <td>7.446898</td>\n",
       "      <td>7.433333</td>\n",
       "      <td>6.816667</td>\n",
       "      <td>7.116667</td>\n",
       "      <td>7.683333</td>\n",
       "      <td>12.0</td>\n",
       "      <td>12.0</td>\n",
       "      <td>10003.166667</td>\n",
       "      <td>659.500000</td>\n",
       "      <td>1.333333</td>\n",
       "      <td>0.0</td>\n",
       "      <td>0.0</td>\n",
       "      <td>0.0</td>\n",
       "      <td>40.719022</td>\n",
       "      <td>-73.982377</td>\n",
       "      <td>0.192551</td>\n",
       "    </tr>\n",
       "    <tr>\n",
       "      <th>21</th>\n",
       "      <td>22</td>\n",
       "      <td>473.500000</td>\n",
       "      <td>502.750000</td>\n",
       "      <td>474.250000</td>\n",
       "      <td>1450.500000</td>\n",
       "      <td>391.007212</td>\n",
       "      <td>614.509615</td>\n",
       "      <td>370.362500</td>\n",
       "      <td>580.250000</td>\n",
       "      <td>22.0</td>\n",
       "      <td>495.279369</td>\n",
       "      <td>15.777391</td>\n",
       "      <td>30.077636</td>\n",
       "      <td>22.509675</td>\n",
       "      <td>33.464740</td>\n",
       "      <td>0.0</td>\n",
       "      <td>20112012.0</td>\n",
       "      <td>0.0</td>\n",
       "      <td>44.225000</td>\n",
       "      <td>2142.500000</td>\n",
       "      <td>138.250000</td>\n",
       "      <td>4.400000</td>\n",
       "      <td>166.250000</td>\n",
       "      <td>6.650000</td>\n",
       "      <td>507.750000</td>\n",
       "      <td>17.975000</td>\n",
       "      <td>622.250000</td>\n",
       "      <td>35.100000</td>\n",
       "      <td>271.000000</td>\n",
       "      <td>12.350000</td>\n",
       "      <td>732.000000</td>\n",
       "      <td>33.975000</td>\n",
       "      <td>1015.750000</td>\n",
       "      <td>44.300000</td>\n",
       "      <td>1126.750000</td>\n",
       "      <td>55.700000</td>\n",
       "      <td>90.250000</td>\n",
       "      <td>87.500000</td>\n",
       "      <td>48.750000</td>\n",
       "      <td>1887.250000</td>\n",
       "      <td>89.500000</td>\n",
       "      <td>1106.250000</td>\n",
       "      <td>8.300000</td>\n",
       "      <td>7.325000</td>\n",
       "      <td>7.525000</td>\n",
       "      <td>7.775000</td>\n",
       "      <td>8.175000</td>\n",
       "      <td>7.400000</td>\n",
       "      <td>7.600000</td>\n",
       "      <td>8.200000</td>\n",
       "      <td>7.025000</td>\n",
       "      <td>6.050000</td>\n",
       "      <td>6.775000</td>\n",
       "      <td>7.500000</td>\n",
       "      <td>7.850000</td>\n",
       "      <td>6.900000</td>\n",
       "      <td>7.300000</td>\n",
       "      <td>7.850000</td>\n",
       "      <td>12.0</td>\n",
       "      <td>12.0</td>\n",
       "      <td>11223.000000</td>\n",
       "      <td>2149.000000</td>\n",
       "      <td>2.250000</td>\n",
       "      <td>0.0</td>\n",
       "      <td>0.0</td>\n",
       "      <td>0.0</td>\n",
       "      <td>40.618285</td>\n",
       "      <td>-73.952288</td>\n",
       "      <td>0.215706</td>\n",
       "    </tr>\n",
       "    <tr>\n",
       "      <th>24</th>\n",
       "      <td>25</td>\n",
       "      <td>437.250000</td>\n",
       "      <td>483.500000</td>\n",
       "      <td>436.250000</td>\n",
       "      <td>1357.000000</td>\n",
       "      <td>205.260817</td>\n",
       "      <td>279.889423</td>\n",
       "      <td>174.793750</td>\n",
       "      <td>268.733871</td>\n",
       "      <td>25.0</td>\n",
       "      <td>280.576007</td>\n",
       "      <td>9.990385</td>\n",
       "      <td>27.106270</td>\n",
       "      <td>21.213189</td>\n",
       "      <td>31.371220</td>\n",
       "      <td>0.0</td>\n",
       "      <td>20112012.0</td>\n",
       "      <td>0.0</td>\n",
       "      <td>52.950000</td>\n",
       "      <td>1356.750000</td>\n",
       "      <td>257.500000</td>\n",
       "      <td>19.737500</td>\n",
       "      <td>136.750000</td>\n",
       "      <td>9.975000</td>\n",
       "      <td>465.250000</td>\n",
       "      <td>40.600000</td>\n",
       "      <td>240.375000</td>\n",
       "      <td>13.062500</td>\n",
       "      <td>494.000000</td>\n",
       "      <td>29.237500</td>\n",
       "      <td>148.875000</td>\n",
       "      <td>16.537500</td>\n",
       "      <td>669.500000</td>\n",
       "      <td>48.500000</td>\n",
       "      <td>687.250000</td>\n",
       "      <td>51.500000</td>\n",
       "      <td>87.000000</td>\n",
       "      <td>78.500000</td>\n",
       "      <td>37.625000</td>\n",
       "      <td>1028.250000</td>\n",
       "      <td>56.000000</td>\n",
       "      <td>370.875000</td>\n",
       "      <td>8.175000</td>\n",
       "      <td>7.537500</td>\n",
       "      <td>7.412500</td>\n",
       "      <td>7.687500</td>\n",
       "      <td>7.487500</td>\n",
       "      <td>6.825000</td>\n",
       "      <td>7.200000</td>\n",
       "      <td>7.712500</td>\n",
       "      <td>6.912500</td>\n",
       "      <td>6.150000</td>\n",
       "      <td>6.712500</td>\n",
       "      <td>7.400000</td>\n",
       "      <td>7.525000</td>\n",
       "      <td>6.837500</td>\n",
       "      <td>7.112500</td>\n",
       "      <td>7.612500</td>\n",
       "      <td>12.0</td>\n",
       "      <td>12.0</td>\n",
       "      <td>11361.000000</td>\n",
       "      <td>1288.875000</td>\n",
       "      <td>1.875000</td>\n",
       "      <td>0.0</td>\n",
       "      <td>0.0</td>\n",
       "      <td>0.0</td>\n",
       "      <td>40.745414</td>\n",
       "      <td>-73.815558</td>\n",
       "      <td>0.205119</td>\n",
       "    </tr>\n",
       "    <tr>\n",
       "      <th>25</th>\n",
       "      <td>26</td>\n",
       "      <td>445.200000</td>\n",
       "      <td>487.600000</td>\n",
       "      <td>444.800000</td>\n",
       "      <td>1377.600000</td>\n",
       "      <td>410.605769</td>\n",
       "      <td>632.407692</td>\n",
       "      <td>392.090000</td>\n",
       "      <td>825.600000</td>\n",
       "      <td>26.0</td>\n",
       "      <td>595.953216</td>\n",
       "      <td>19.240117</td>\n",
       "      <td>29.971140</td>\n",
       "      <td>20.315789</td>\n",
       "      <td>33.554327</td>\n",
       "      <td>0.0</td>\n",
       "      <td>20112012.0</td>\n",
       "      <td>0.0</td>\n",
       "      <td>43.800000</td>\n",
       "      <td>2991.600000</td>\n",
       "      <td>248.600000</td>\n",
       "      <td>7.480000</td>\n",
       "      <td>350.000000</td>\n",
       "      <td>11.960000</td>\n",
       "      <td>1259.200000</td>\n",
       "      <td>38.140000</td>\n",
       "      <td>676.400000</td>\n",
       "      <td>28.420000</td>\n",
       "      <td>604.800000</td>\n",
       "      <td>19.380000</td>\n",
       "      <td>432.400000</td>\n",
       "      <td>13.420000</td>\n",
       "      <td>1475.000000</td>\n",
       "      <td>49.220000</td>\n",
       "      <td>1516.600000</td>\n",
       "      <td>50.780000</td>\n",
       "      <td>67.000000</td>\n",
       "      <td>83.400000</td>\n",
       "      <td>23.800000</td>\n",
       "      <td>1930.800000</td>\n",
       "      <td>129.800000</td>\n",
       "      <td>684.200000</td>\n",
       "      <td>7.720000</td>\n",
       "      <td>6.980000</td>\n",
       "      <td>7.220000</td>\n",
       "      <td>7.260000</td>\n",
       "      <td>7.000000</td>\n",
       "      <td>6.580000</td>\n",
       "      <td>6.840000</td>\n",
       "      <td>7.260000</td>\n",
       "      <td>6.760000</td>\n",
       "      <td>6.060000</td>\n",
       "      <td>6.660000</td>\n",
       "      <td>7.380000</td>\n",
       "      <td>7.140000</td>\n",
       "      <td>6.540000</td>\n",
       "      <td>6.900000</td>\n",
       "      <td>7.300000</td>\n",
       "      <td>12.0</td>\n",
       "      <td>12.0</td>\n",
       "      <td>11388.600000</td>\n",
       "      <td>2837.400000</td>\n",
       "      <td>4.600000</td>\n",
       "      <td>0.0</td>\n",
       "      <td>0.0</td>\n",
       "      <td>0.0</td>\n",
       "      <td>40.748507</td>\n",
       "      <td>-73.759176</td>\n",
       "      <td>0.124673</td>\n",
       "    </tr>\n",
       "    <tr>\n",
       "      <th>27</th>\n",
       "      <td>28</td>\n",
       "      <td>445.941655</td>\n",
       "      <td>465.997286</td>\n",
       "      <td>435.908005</td>\n",
       "      <td>1347.846947</td>\n",
       "      <td>182.010490</td>\n",
       "      <td>273.559441</td>\n",
       "      <td>175.336364</td>\n",
       "      <td>351.214076</td>\n",
       "      <td>28.0</td>\n",
       "      <td>255.381164</td>\n",
       "      <td>8.719058</td>\n",
       "      <td>26.770807</td>\n",
       "      <td>21.349816</td>\n",
       "      <td>30.172038</td>\n",
       "      <td>0.0</td>\n",
       "      <td>20112012.0</td>\n",
       "      <td>0.0</td>\n",
       "      <td>53.790909</td>\n",
       "      <td>1210.636364</td>\n",
       "      <td>87.363636</td>\n",
       "      <td>4.963636</td>\n",
       "      <td>123.454545</td>\n",
       "      <td>9.827273</td>\n",
       "      <td>403.727273</td>\n",
       "      <td>31.345455</td>\n",
       "      <td>343.727273</td>\n",
       "      <td>37.509091</td>\n",
       "      <td>283.454545</td>\n",
       "      <td>19.954545</td>\n",
       "      <td>165.636364</td>\n",
       "      <td>9.400000</td>\n",
       "      <td>590.363636</td>\n",
       "      <td>45.863636</td>\n",
       "      <td>620.272727</td>\n",
       "      <td>54.136364</td>\n",
       "      <td>85.090909</td>\n",
       "      <td>85.545455</td>\n",
       "      <td>40.545455</td>\n",
       "      <td>872.545455</td>\n",
       "      <td>54.727273</td>\n",
       "      <td>362.636364</td>\n",
       "      <td>8.172727</td>\n",
       "      <td>7.590909</td>\n",
       "      <td>7.472727</td>\n",
       "      <td>7.781818</td>\n",
       "      <td>7.600000</td>\n",
       "      <td>7.145455</td>\n",
       "      <td>7.363636</td>\n",
       "      <td>7.972727</td>\n",
       "      <td>6.627273</td>\n",
       "      <td>6.081818</td>\n",
       "      <td>6.618182</td>\n",
       "      <td>7.454545</td>\n",
       "      <td>7.463636</td>\n",
       "      <td>6.936364</td>\n",
       "      <td>7.145455</td>\n",
       "      <td>7.745455</td>\n",
       "      <td>12.0</td>\n",
       "      <td>12.0</td>\n",
       "      <td>11422.000000</td>\n",
       "      <td>1304.272727</td>\n",
       "      <td>2.545455</td>\n",
       "      <td>0.0</td>\n",
       "      <td>0.0</td>\n",
       "      <td>0.0</td>\n",
       "      <td>40.709344</td>\n",
       "      <td>-73.806367</td>\n",
       "      <td>0.215716</td>\n",
       "    </tr>\n",
       "    <tr>\n",
       "      <th>29</th>\n",
       "      <td>30</td>\n",
       "      <td>430.679934</td>\n",
       "      <td>465.961857</td>\n",
       "      <td>429.740299</td>\n",
       "      <td>1326.382090</td>\n",
       "      <td>157.231838</td>\n",
       "      <td>252.123932</td>\n",
       "      <td>115.150000</td>\n",
       "      <td>310.526882</td>\n",
       "      <td>30.0</td>\n",
       "      <td>251.803744</td>\n",
       "      <td>9.260486</td>\n",
       "      <td>25.715644</td>\n",
       "      <td>19.312273</td>\n",
       "      <td>29.760726</td>\n",
       "      <td>0.0</td>\n",
       "      <td>20112012.0</td>\n",
       "      <td>0.0</td>\n",
       "      <td>54.211111</td>\n",
       "      <td>1221.555556</td>\n",
       "      <td>220.555556</td>\n",
       "      <td>16.133333</td>\n",
       "      <td>125.111111</td>\n",
       "      <td>7.988889</td>\n",
       "      <td>281.777778</td>\n",
       "      <td>24.866667</td>\n",
       "      <td>124.222222</td>\n",
       "      <td>10.444444</td>\n",
       "      <td>607.222222</td>\n",
       "      <td>43.522222</td>\n",
       "      <td>204.444444</td>\n",
       "      <td>20.788889</td>\n",
       "      <td>604.111111</td>\n",
       "      <td>44.777778</td>\n",
       "      <td>617.444444</td>\n",
       "      <td>55.222222</td>\n",
       "      <td>89.000000</td>\n",
       "      <td>85.444444</td>\n",
       "      <td>42.333333</td>\n",
       "      <td>963.444444</td>\n",
       "      <td>63.111111</td>\n",
       "      <td>318.777778</td>\n",
       "      <td>8.222222</td>\n",
       "      <td>7.444444</td>\n",
       "      <td>7.433333</td>\n",
       "      <td>7.700000</td>\n",
       "      <td>7.500000</td>\n",
       "      <td>6.655556</td>\n",
       "      <td>6.911111</td>\n",
       "      <td>7.533333</td>\n",
       "      <td>7.033333</td>\n",
       "      <td>6.166667</td>\n",
       "      <td>6.844444</td>\n",
       "      <td>7.511111</td>\n",
       "      <td>7.577778</td>\n",
       "      <td>6.744444</td>\n",
       "      <td>7.077778</td>\n",
       "      <td>7.588889</td>\n",
       "      <td>12.0</td>\n",
       "      <td>12.0</td>\n",
       "      <td>11103.000000</td>\n",
       "      <td>1123.333333</td>\n",
       "      <td>2.555556</td>\n",
       "      <td>0.0</td>\n",
       "      <td>0.0</td>\n",
       "      <td>0.0</td>\n",
       "      <td>40.755398</td>\n",
       "      <td>-73.932306</td>\n",
       "      <td>0.170433</td>\n",
       "    </tr>\n",
       "    <tr>\n",
       "      <th>30</th>\n",
       "      <td>31</td>\n",
       "      <td>457.500000</td>\n",
       "      <td>472.500000</td>\n",
       "      <td>452.500000</td>\n",
       "      <td>1382.500000</td>\n",
       "      <td>228.908654</td>\n",
       "      <td>355.111538</td>\n",
       "      <td>194.435000</td>\n",
       "      <td>450.787097</td>\n",
       "      <td>31.0</td>\n",
       "      <td>380.528319</td>\n",
       "      <td>13.251284</td>\n",
       "      <td>28.119729</td>\n",
       "      <td>19.995494</td>\n",
       "      <td>32.785641</td>\n",
       "      <td>0.0</td>\n",
       "      <td>20112012.0</td>\n",
       "      <td>0.0</td>\n",
       "      <td>38.310000</td>\n",
       "      <td>1850.600000</td>\n",
       "      <td>64.200000</td>\n",
       "      <td>2.860000</td>\n",
       "      <td>301.500000</td>\n",
       "      <td>16.710000</td>\n",
       "      <td>177.700000</td>\n",
       "      <td>10.300000</td>\n",
       "      <td>307.300000</td>\n",
       "      <td>18.270000</td>\n",
       "      <td>418.700000</td>\n",
       "      <td>22.170000</td>\n",
       "      <td>938.700000</td>\n",
       "      <td>48.810000</td>\n",
       "      <td>948.500000</td>\n",
       "      <td>52.090000</td>\n",
       "      <td>902.100000</td>\n",
       "      <td>47.910000</td>\n",
       "      <td>88.900000</td>\n",
       "      <td>91.300000</td>\n",
       "      <td>43.500000</td>\n",
       "      <td>1476.600000</td>\n",
       "      <td>88.900000</td>\n",
       "      <td>593.300000</td>\n",
       "      <td>7.800000</td>\n",
       "      <td>7.390000</td>\n",
       "      <td>7.460000</td>\n",
       "      <td>7.620000</td>\n",
       "      <td>7.210000</td>\n",
       "      <td>7.140000</td>\n",
       "      <td>7.390000</td>\n",
       "      <td>7.860000</td>\n",
       "      <td>6.530000</td>\n",
       "      <td>6.070000</td>\n",
       "      <td>6.780000</td>\n",
       "      <td>7.330000</td>\n",
       "      <td>7.200000</td>\n",
       "      <td>6.870000</td>\n",
       "      <td>7.200000</td>\n",
       "      <td>7.610000</td>\n",
       "      <td>12.0</td>\n",
       "      <td>12.0</td>\n",
       "      <td>10307.100000</td>\n",
       "      <td>1847.500000</td>\n",
       "      <td>5.000000</td>\n",
       "      <td>0.0</td>\n",
       "      <td>0.0</td>\n",
       "      <td>0.0</td>\n",
       "      <td>40.595680</td>\n",
       "      <td>-74.125726</td>\n",
       "      <td>0.176337</td>\n",
       "    </tr>\n",
       "  </tbody>\n",
       "</table>\n",
       "</div>"
      ],
      "text/plain": [
       "   school_dist  SAT Critical Reading Avg. Score  SAT Math Avg. Score  \\\n",
       "0           01                       441.833333           473.333333   \n",
       "21          22                       473.500000           502.750000   \n",
       "24          25                       437.250000           483.500000   \n",
       "25          26                       445.200000           487.600000   \n",
       "27          28                       445.941655           465.997286   \n",
       "29          30                       430.679934           465.961857   \n",
       "30          31                       457.500000           472.500000   \n",
       "\n",
       "    SAT Writing Avg. Score    sat_score  AP Test Takers   Total Exams Taken  \\\n",
       "0               439.333333  1354.500000       116.681090         173.019231   \n",
       "21              474.250000  1450.500000       391.007212         614.509615   \n",
       "24              436.250000  1357.000000       205.260817         279.889423   \n",
       "25              444.800000  1377.600000       410.605769         632.407692   \n",
       "27              435.908005  1347.846947       182.010490         273.559441   \n",
       "29              429.740299  1326.382090       157.231838         252.123932   \n",
       "30              452.500000  1382.500000       228.908654         355.111538   \n",
       "\n",
       "    Number of Exams with scores 3 4 or 5  Total Cohort   CSD  \\\n",
       "0                             135.800000     93.500000   1.0   \n",
       "21                            370.362500    580.250000  22.0   \n",
       "24                            174.793750    268.733871  25.0   \n",
       "25                            392.090000    825.600000  26.0   \n",
       "27                            175.336364    351.214076  28.0   \n",
       "29                            115.150000    310.526882  30.0   \n",
       "30                            194.435000    450.787097  31.0   \n",
       "\n",
       "    NUMBER OF STUDENTS / SEATS FILLED  NUMBER OF SECTIONS  AVERAGE CLASS SIZE  \\\n",
       "0                          115.244241            5.148538           22.675415   \n",
       "21                         495.279369           15.777391           30.077636   \n",
       "24                         280.576007            9.990385           27.106270   \n",
       "25                         595.953216           19.240117           29.971140   \n",
       "27                         255.381164            8.719058           26.770807   \n",
       "29                         251.803744            9.260486           25.715644   \n",
       "30                         380.528319           13.251284           28.119729   \n",
       "\n",
       "    SIZE OF SMALLEST CLASS  SIZE OF LARGEST CLASS  \\\n",
       "0                18.798392              26.553044   \n",
       "21               22.509675              33.464740   \n",
       "24               21.213189              31.371220   \n",
       "25               20.315789              33.554327   \n",
       "27               21.349816              30.172038   \n",
       "29               19.312273              29.760726   \n",
       "30               19.995494              32.785641   \n",
       "\n",
       "    SCHOOLWIDE PUPIL-TEACHER RATIO  schoolyear  fl_percent  frl_percent  \\\n",
       "0                              0.0  20112012.0         0.0    58.983333   \n",
       "21                             0.0  20112012.0         0.0    44.225000   \n",
       "24                             0.0  20112012.0         0.0    52.950000   \n",
       "25                             0.0  20112012.0         0.0    43.800000   \n",
       "27                             0.0  20112012.0         0.0    53.790909   \n",
       "29                             0.0  20112012.0         0.0    54.211111   \n",
       "30                             0.0  20112012.0         0.0    38.310000   \n",
       "\n",
       "    total_enrollment     ell_num  ell_percent    sped_num  sped_percent  \\\n",
       "0         668.500000   42.166667    10.000000   82.000000     17.083333   \n",
       "21       2142.500000  138.250000     4.400000  166.250000      6.650000   \n",
       "24       1356.750000  257.500000    19.737500  136.750000      9.975000   \n",
       "25       2991.600000  248.600000     7.480000  350.000000     11.960000   \n",
       "27       1210.636364   87.363636     4.963636  123.454545      9.827273   \n",
       "29       1221.555556  220.555556    16.133333  125.111111      7.988889   \n",
       "30       1850.600000   64.200000     2.860000  301.500000     16.710000   \n",
       "\n",
       "      asian_num  asian_per   black_num  black_per  hispanic_num  hispanic_per  \\\n",
       "0    134.500000  17.516667  125.500000  22.333333    214.833333     40.733333   \n",
       "21   507.750000  17.975000  622.250000  35.100000    271.000000     12.350000   \n",
       "24   465.250000  40.600000  240.375000  13.062500    494.000000     29.237500   \n",
       "25  1259.200000  38.140000  676.400000  28.420000    604.800000     19.380000   \n",
       "27   403.727273  31.345455  343.727273  37.509091    283.454545     19.954545   \n",
       "29   281.777778  24.866667  124.222222  10.444444    607.222222     43.522222   \n",
       "30   177.700000  10.300000  307.300000  18.270000    418.700000     22.170000   \n",
       "\n",
       "     white_num  white_per     male_num   male_per   female_num  female_per  \\\n",
       "0   186.000000  18.450000   328.166667  50.050000   340.333333   49.950000   \n",
       "21  732.000000  33.975000  1015.750000  44.300000  1126.750000   55.700000   \n",
       "24  148.875000  16.537500   669.500000  48.500000   687.250000   51.500000   \n",
       "25  432.400000  13.420000  1475.000000  49.220000  1516.600000   50.780000   \n",
       "27  165.636364   9.400000   590.363636  45.863636   620.272727   54.136364   \n",
       "29  204.444444  20.788889   604.111111  44.777778   617.444444   55.222222   \n",
       "30  938.700000  48.810000   948.500000  52.090000   902.100000   47.910000   \n",
       "\n",
       "         rr_s       rr_t       rr_p          N_s         N_t          N_p  \\\n",
       "0   76.500000  85.333333  33.166667   525.368056   38.500000   239.166667   \n",
       "21  90.250000  87.500000  48.750000  1887.250000   89.500000  1106.250000   \n",
       "24  87.000000  78.500000  37.625000  1028.250000   56.000000   370.875000   \n",
       "25  67.000000  83.400000  23.800000  1930.800000  129.800000   684.200000   \n",
       "27  85.090909  85.545455  40.545455   872.545455   54.727273   362.636364   \n",
       "29  89.000000  85.444444  42.333333   963.444444   63.111111   318.777778   \n",
       "30  88.900000  91.300000  43.500000  1476.600000   88.900000   593.300000   \n",
       "\n",
       "    saf_p_11  com_p_11  eng_p_11  aca_p_11  saf_t_11  com_t_11  eng_t_11  \\\n",
       "0   8.233333  7.800000  7.683333  8.016667  7.066667  6.233333  6.700000   \n",
       "21  8.300000  7.325000  7.525000  7.775000  8.175000  7.400000  7.600000   \n",
       "24  8.175000  7.537500  7.412500  7.687500  7.487500  6.825000  7.200000   \n",
       "25  7.720000  6.980000  7.220000  7.260000  7.000000  6.580000  6.840000   \n",
       "27  8.172727  7.590909  7.472727  7.781818  7.600000  7.145455  7.363636   \n",
       "29  8.222222  7.444444  7.433333  7.700000  7.500000  6.655556  6.911111   \n",
       "30  7.800000  7.390000  7.460000  7.620000  7.210000  7.140000  7.390000   \n",
       "\n",
       "    aca_t_11  saf_s_11  com_s_11  eng_s_11  aca_s_11  saf_tot_11  com_tot_11  \\\n",
       "0   7.500000  6.768611  6.165787  6.736713  7.446898    7.433333    6.816667   \n",
       "21  8.200000  7.025000  6.050000  6.775000  7.500000    7.850000    6.900000   \n",
       "24  7.712500  6.912500  6.150000  6.712500  7.400000    7.525000    6.837500   \n",
       "25  7.260000  6.760000  6.060000  6.660000  7.380000    7.140000    6.540000   \n",
       "27  7.972727  6.627273  6.081818  6.618182  7.454545    7.463636    6.936364   \n",
       "29  7.533333  7.033333  6.166667  6.844444  7.511111    7.577778    6.744444   \n",
       "30  7.860000  6.530000  6.070000  6.780000  7.330000    7.200000    6.870000   \n",
       "\n",
       "    eng_tot_11  aca_tot_11  grade_span_max  expgrade_span_max           zip  \\\n",
       "0     7.116667    7.683333            12.0               12.0  10003.166667   \n",
       "21    7.300000    7.850000            12.0               12.0  11223.000000   \n",
       "24    7.112500    7.612500            12.0               12.0  11361.000000   \n",
       "25    6.900000    7.300000            12.0               12.0  11388.600000   \n",
       "27    7.145455    7.745455            12.0               12.0  11422.000000   \n",
       "29    7.077778    7.588889            12.0               12.0  11103.000000   \n",
       "30    7.200000    7.610000            12.0               12.0  10307.100000   \n",
       "\n",
       "    total_students  number_programs  priority08  priority09  priority10  \\\n",
       "0       659.500000         1.333333         0.0         0.0         0.0   \n",
       "21     2149.000000         2.250000         0.0         0.0         0.0   \n",
       "24     1288.875000         1.875000         0.0         0.0         0.0   \n",
       "25     2837.400000         4.600000         0.0         0.0         0.0   \n",
       "27     1304.272727         2.545455         0.0         0.0         0.0   \n",
       "29     1123.333333         2.555556         0.0         0.0         0.0   \n",
       "30     1847.500000         5.000000         0.0         0.0         0.0   \n",
       "\n",
       "          lat        lon    ap_per  \n",
       "0   40.719022 -73.982377  0.192551  \n",
       "21  40.618285 -73.952288  0.215706  \n",
       "24  40.745414 -73.815558  0.205119  \n",
       "25  40.748507 -73.759176  0.124673  \n",
       "27  40.709344 -73.806367  0.215716  \n",
       "29  40.755398 -73.932306  0.170433  \n",
       "30  40.595680 -74.125726  0.176337  "
      ]
     },
     "execution_count": 30,
     "metadata": {},
     "output_type": "execute_result"
    }
   ],
   "source": [
    "best_neighborhoods = districts[districts['sat_score']>1300]\n",
    "best_neighborhoods"
   ]
  },
  {
   "cell_type": "markdown",
   "metadata": {},
   "source": [
    "From the list we see above, these school district are good: 01, 22, 25, 26, 28, 30, 31."
   ]
  }
 ],
 "metadata": {
  "kernelspec": {
   "display_name": "Python 3",
   "language": "python",
   "name": "python3"
  },
  "language_info": {
   "codemirror_mode": {
    "name": "ipython",
    "version": 3
   },
   "file_extension": ".py",
   "mimetype": "text/x-python",
   "name": "python",
   "nbconvert_exporter": "python",
   "pygments_lexer": "ipython3",
   "version": "3.4.3"
  }
 },
 "nbformat": 4,
 "nbformat_minor": 2
}
