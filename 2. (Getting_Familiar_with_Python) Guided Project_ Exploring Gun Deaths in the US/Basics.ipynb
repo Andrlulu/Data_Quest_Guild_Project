{
 "cells": [
  {
   "cell_type": "code",
   "execution_count": 1,
   "metadata": {
    "collapsed": false
   },
   "outputs": [
    {
     "name": "stdout",
     "output_type": "stream",
     "text": [
      "[['', 'year', 'month', 'intent', 'police', 'sex', 'age', 'race', 'hispanic', 'place', 'education'], ['1', '2012', '01', 'Suicide', '0', 'M', '34', 'Asian/Pacific Islander', '100', 'Home', '4'], ['2', '2012', '01', 'Suicide', '0', 'F', '21', 'White', '100', 'Street', '3'], ['3', '2012', '01', 'Suicide', '0', 'M', '60', 'White', '100', 'Other specified', '4'], ['4', '2012', '02', 'Suicide', '0', 'M', '64', 'White', '100', 'Home', '4']]\n"
     ]
    }
   ],
   "source": [
    "import csv\n",
    "f = open(\"guns.csv\",'r')\n",
    "data = list(csv.reader(f))\n",
    "print(data[0:5])"
   ]
  },
  {
   "cell_type": "code",
   "execution_count": 2,
   "metadata": {
    "collapsed": false
   },
   "outputs": [
    {
     "name": "stdout",
     "output_type": "stream",
     "text": [
      "['', 'year', 'month', 'intent', 'police', 'sex', 'age', 'race', 'hispanic', 'place', 'education']\n",
      "[['1', '2012', '01', 'Suicide', '0', 'M', '34', 'Asian/Pacific Islander', '100', 'Home', '4'], ['2', '2012', '01', 'Suicide', '0', 'F', '21', 'White', '100', 'Street', '3'], ['3', '2012', '01', 'Suicide', '0', 'M', '60', 'White', '100', 'Other specified', '4'], ['4', '2012', '02', 'Suicide', '0', 'M', '64', 'White', '100', 'Home', '4'], ['5', '2012', '02', 'Suicide', '0', 'M', '31', 'White', '100', 'Other specified', '2']]\n"
     ]
    }
   ],
   "source": [
    "header = data[0]\n",
    "print(header)\n",
    "data = data[1:]\n",
    "print(data[0:5])"
   ]
  },
  {
   "cell_type": "code",
   "execution_count": 3,
   "metadata": {
    "collapsed": false
   },
   "outputs": [
    {
     "name": "stdout",
     "output_type": "stream",
     "text": [
      "{'2013': 33636, '2014': 33599, '2012': 33563}\n"
     ]
    }
   ],
   "source": [
    "years = []\n",
    "for each in data:\n",
    "    years.append(each[1])\n",
    "year_counts = {}\n",
    "for year in years:\n",
    "    if year in year_counts:\n",
    "        year_counts[year] = year_counts[year] +1\n",
    "    if year not in year_counts:\n",
    "        year_counts[year] = 1\n",
    "print(year_counts)"
   ]
  },
  {
   "cell_type": "code",
   "execution_count": 4,
   "metadata": {
    "collapsed": false
   },
   "outputs": [
    {
     "name": "stdout",
     "output_type": "stream",
     "text": [
      "['2012 01 01', '2012 01 01', '2012 01 01', '2012 02 01', '2012 02 01']\n",
      "{'2013 11 01': 2758, '2012 07 01': 3026, '2012 04 01': 2795, '2012 03 01': 2743, '2013 10 01': 2808, '2013 06 01': 2920, '2014 05 01': 2864, '2014 03 01': 2684, '2013 12 01': 2765, '2012 01 01': 2758, '2014 11 01': 2756, '2014 07 01': 2884, '2014 09 01': 2914, '2013 08 01': 2859, '2013 07 01': 3079, '2012 05 01': 2999, '2014 06 01': 2931, '2014 01 01': 2651, '2012 11 01': 2729, '2014 04 01': 2862, '2013 04 01': 2798, '2014 10 01': 2865, '2014 02 01': 2361, '2013 09 01': 2742, '2012 10 01': 2733, '2013 03 01': 2862, '2014 12 01': 2857, '2014 08 01': 2970, '2012 06 01': 2826, '2012 12 01': 2791, '2012 09 01': 2852, '2013 01 01': 2864, '2012 02 01': 2357, '2012 08 01': 2954, '2013 05 01': 2806, '2013 02 01': 2375}\n"
     ]
    }
   ],
   "source": [
    "import datetime\n",
    "dates=[]\n",
    "for each in data:\n",
    "    date = datetime.datetime(year=int(each[1]),month=int(each[2]),day = 1)\n",
    "    date = date.strftime(\"%Y %m %d\")\n",
    "    dates.append(date)\n",
    "print(dates[:5])\n",
    "\n",
    "date_counts={}\n",
    "for row in dates:\n",
    "    if row in date_counts:\n",
    "        date_counts[row] = date_counts[row] +1\n",
    "    if row not in date_counts:\n",
    "        date_counts[row] = 1\n",
    "print(date_counts)"
   ]
  },
  {
   "cell_type": "code",
   "execution_count": 5,
   "metadata": {
    "collapsed": false
   },
   "outputs": [
    {
     "data": {
      "text/plain": [
       "{'Asian/Pacific Islander': 1326,\n",
       " 'Black': 23296,\n",
       " 'Hispanic': 9022,\n",
       " 'Native American/Native Alaskan': 917,\n",
       " 'White': 66237}"
      ]
     },
     "execution_count": 5,
     "metadata": {},
     "output_type": "execute_result"
    }
   ],
   "source": [
    "def xcounts(colum,data):\n",
    "    xes = []\n",
    "    for each in data:\n",
    "        xes.append(each[colum])\n",
    "    xcounts = {}\n",
    "    for x in xes:\n",
    "        if x in xcounts:\n",
    "            xcounts[x] = xcounts[x] + 1\n",
    "        if x not in xcounts:\n",
    "            xcounts[x] = 1\n",
    "    return xcounts\n",
    "\n",
    "sex_counts = xcounts(5,data)\n",
    "race_counts = xcounts(7,data)\n",
    "#I have learn to use function to make the redundant/ repeating task much easier to work with.\n",
    "#I can fluently use loop and dictionary to count each uniquq keys.\n",
    "#I need to further study how to use class\n",
    "race_counts"
   ]
  },
  {
   "cell_type": "code",
   "execution_count": 6,
   "metadata": {
    "collapsed": false
   },
   "outputs": [
    {
     "name": "stdout",
     "output_type": "stream",
     "text": [
      "[['Id', 'Year', 'Id', 'Sex', 'Id', 'Hispanic Origin', 'Id', 'Id2', 'Geography', 'Total', 'Race Alone - White', 'Race Alone - Hispanic', 'Race Alone - Black or African American', 'Race Alone - American Indian and Alaska Native', 'Race Alone - Asian', 'Race Alone - Native Hawaiian and Other Pacific Islander', 'Two or More Races'], ['cen42010', 'April 1, 2010 Census', 'totsex', 'Both Sexes', 'tothisp', 'Total', '0100000US', '', 'United States', '308745538', '197318956', '44618105', '40250635', '3739506', '15159516', '674625', '6984195']]\n"
     ]
    }
   ],
   "source": [
    "f = open(\"census.csv\",'r')\n",
    "census = list(csv.reader(f))\n",
    "print(census)"
   ]
  },
  {
   "cell_type": "code",
   "execution_count": 7,
   "metadata": {
    "collapsed": false
   },
   "outputs": [
    {
     "name": "stdout",
     "output_type": "stream",
     "text": [
      "{'Native American/Native Alaskan': 2.452195557381109, 'Hispanic': 2.022049121091091, 'Black': 5.78773477735196, 'Asian/Pacific Islander': 0.8374309664161763, 'White': 3.356849303419181}\n"
     ]
    }
   ],
   "source": [
    "mapping ={'Asian/Pacific Islander':15159516+674625,'Black':40250635,'Hispanic':44618105,'Native American/Native Alaskan':3739506,'White':197318956}\n",
    "race_per_hundredk = {}\n",
    "for k,v in race_counts.items():\n",
    "    race_per_hundredk[k] = 100000*(race_counts[k]/mapping[k])\n",
    "print(race_per_hundredk)   "
   ]
  },
  {
   "cell_type": "code",
   "execution_count": 14,
   "metadata": {
    "collapsed": false
   },
   "outputs": [
    {
     "name": "stdout",
     "output_type": "stream",
     "text": [
      "{'Native American/Native Alaskan': 8.744470526320857, 'Hispanic': 12.62940234687242, 'Black': 48.47376942003524, 'Asian/Pacific Islander': 3.5366616982885275, 'White': 4.636148591826119}\n"
     ]
    }
   ],
   "source": [
    "intents = []\n",
    "for each in data:\n",
    "    intents.append(each[3])\n",
    "races = []\n",
    "for each in data:\n",
    "    races.append(each[7])\n",
    "homicide_race_counts={}\n",
    "for i,race in enumerate(races):\n",
    "    if race not in homicide_race_counts:\n",
    "        homicide_race_counts[race] = 1\n",
    "    if intents[i] == \"Homicide\":\n",
    "        homicide_race_counts[race] = homicide_race_counts[race] +1\n",
    "homicide_race_counts_per_hundredk ={}\n",
    "for k,v in homicide_race_counts.items():\n",
    "    homicide_race_counts_per_hundredk[k] =100000*(homicide_race_counts[k]/mapping[k])\n",
    "print(homicide_race_counts_per_hundredk)\n",
    "\n",
    "#Race black has the highest homicide rate while asian has the lowest homicide rate.\n",
    "#I would like to compare the intention for the incident"
   ]
  },
  {
   "cell_type": "code",
   "execution_count": null,
   "metadata": {
    "collapsed": true
   },
   "outputs": [],
   "source": []
  },
  {
   "cell_type": "code",
   "execution_count": null,
   "metadata": {
    "collapsed": true
   },
   "outputs": [],
   "source": []
  }
 ],
 "metadata": {
  "kernelspec": {
   "display_name": "Python 3",
   "language": "python",
   "name": "python3"
  },
  "language_info": {
   "codemirror_mode": {
    "name": "ipython",
    "version": 3
   },
   "file_extension": ".py",
   "mimetype": "text/x-python",
   "name": "python",
   "nbconvert_exporter": "python",
   "pygments_lexer": "ipython3",
   "version": "3.4.3"
  }
 },
 "nbformat": 4,
 "nbformat_minor": 0
}
